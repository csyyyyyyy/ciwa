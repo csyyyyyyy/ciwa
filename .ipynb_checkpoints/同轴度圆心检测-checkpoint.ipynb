{
 "cells": [
  {
   "cell_type": "code",
   "execution_count": 2,
   "metadata": {
    "collapsed": true
   },
   "outputs": [],
   "source": [
    "import cv2\n",
    "import numpy as np\n",
    "import matplotlib.pyplot as  plt\n",
    "from pylab import *\n",
    "from PIL import Image"
   ]
  },
  {
   "cell_type": "markdown",
   "metadata": {
    "collapsed": false
   },
   "source": [
    "img=cv2.imread('E:\\\\picture_ciwa\\\\0208\\\\llf\\\\00004.BMP')\n",
    "b,g,r=cv2.split(img)\n",
    "cv2.namedWindow('img_b',0)\n",
    "cv2.imshow('img_b',b)\n",
    "cv2.waitKey(0)\n",
    "cv2.destroyAllWindows()"
   ]
  },
  {
   "cell_type": "markdown",
   "metadata": {
    "collapsed": false
   },
   "source": [
    "img.shape"
   ]
  },
  {
   "cell_type": "code",
   "execution_count": 3,
   "metadata": {
    "collapsed": false
   },
   "outputs": [],
   "source": [
    "img=cv2.imread('E:\\\\picture_ciwa\\\\0208\\\\llf\\\\00004.BMP',0)\n",
    "img=img[1600:,900:1700]\n"
   ]
  },
  {
   "cell_type": "code",
   "execution_count": 4,
   "metadata": {
    "collapsed": true
   },
   "outputs": [],
   "source": [
    "cv2.namedWindow('img_b',0)\n",
    "cv2.imshow('img_b',img)\n",
    "cv2.waitKey(0)\n",
    "cv2.destroyAllWindows()"
   ]
  },
  {
   "cell_type": "code",
   "execution_count": 50,
   "metadata": {
    "collapsed": false
   },
   "outputs": [],
   "source": [
    "img=cv2.medianBlur(img,5)\n",
    "# cv2.imwrite('exam.BMP',img)"
   ]
  },
  {
   "cell_type": "markdown",
   "metadata": {
    "collapsed": false
   },
   "source": [
    "r,th2=cv2.threshold(img,50,255,cv2.THRESH_TOZERO)\n",
    "cv2.namedWindow('th',0)\n",
    "cv2.imshow('th',th2)\n",
    "cv2.waitKey(0)\n",
    "cv2.destroyAllWindows()"
   ]
  },
  {
   "cell_type": "code",
   "execution_count": 51,
   "metadata": {
    "collapsed": false
   },
   "outputs": [
    {
     "name": "stdout",
     "output_type": "stream",
     "text": [
      "[103 103 103 ..., 336 336 336]\n",
      "[723 724 725 ..., 435 436 437]\n"
     ]
    },
    {
     "data": {
      "image/png": "[encoded data removed]",
      "text/plain": [
       "<matplotlib.figure.Figure at 0x1ad4fe0f438>"
      ]
     },
     "metadata": {},
     "output_type": "display_data"
    },
    {
     "data": {
      "image/png": "[encoded data removed]",
      "text/plain": [
       "<matplotlib.figure.Figure at 0x1ad4e9842e8>"
      ]
     },
     "metadata": {},
     "output_type": "display_data"
    },
    {
     "data": {
      "image/png": "[encoded data removed]",
      "text/plain": [
       "<matplotlib.figure.Figure at 0x1ad4fbd4a20>"
      ]
     },
     "metadata": {},
     "output_type": "display_data"
    },
    {
     "data": {
      "image/png": "[encoded data removed]",
      "text/plain": [
       "<matplotlib.figure.Figure at 0x1ad4e8e0a58>"
      ]
     },
     "metadata": {},
     "output_type": "display_data"
    }
   ],
   "source": [
    "dark=np.where((img>60))\n",
    "print(dark[0])\n",
    "print(dark[1])\n",
    "\n",
    "n=len(dark[0])\n",
    "a=np.zeros((n,2))\n",
    "for i in range(n):\n",
    "    a[i][0]=dark[1][i]\n",
    "    a[i][1]=dark[0][i]\n",
    "    \n",
    "\n",
    "plt.figure()\n",
    "plt.plot(dark[1],dark[0],'o')\n",
    "plt.show()"
   ]
  },
  {
   "cell_type": "code",
   "execution_count": 52,
   "metadata": {
    "collapsed": false
   },
   "outputs": [],
   "source": [
    "dic={}\n",
    "for i in range(n):\n",
    "    if a[i][0] in dic.keys():\n",
    "        dic[a[i][0]].append(a[i][1])\n",
    "    else:\n",
    "        dic[a[i][0]]=[a[i][1]]\n",
    "        "
   ]
  },
  {
   "cell_type": "code",
   "execution_count": 53,
   "metadata": {
    "collapsed": false
   },
   "outputs": [],
   "source": [
    "line_up={}\n",
    "line_down={}\n",
    "k=1\n",
    "for key in dic.keys():\n",
    "    v=sort(dic[key])\n",
    "    n=len(v)\n",
    "    if n>1:\n",
    "        line_down[key]=min(v)\n",
    "        line_up[key]=max(v)\n",
    "    else:\n",
    "        line_down[key]=dic[key]\n",
    "        line_up[key]=dic[key]"
   ]
  },
  {
   "cell_type": "code",
   "execution_count": 54,
   "metadata": {
    "collapsed": false
   },
   "outputs": [],
   "source": [
    "\n",
    "x1=list(line_up.keys())\n",
    "y1=list(line_up.values())\n",
    "x2=list(line_down.keys())\n",
    "y2=list(line_down.values())\n"
   ]
  },
  {
   "cell_type": "code",
   "execution_count": 55,
   "metadata": {
    "collapsed": false
   },
   "outputs": [
    {
     "data": {
      "image/png": "[encoded data removed]",
      "text/plain": [
       "<matplotlib.figure.Figure at 0x1ad4e9597f0>"
      ]
     },
     "metadata": {},
     "output_type": "display_data"
    }
   ],
   "source": [
    "plt.figure()\n",
    "plt.plot(x1,y1,'o',c='r')\n",
    "plt.plot(x2,y2,'o',c='b')\n",
    "plt.show()"
   ]
  },
  {
   "cell_type": "code",
   "execution_count": 3,
   "metadata": {
    "collapsed": false
   },
   "outputs": [
    {
     "name": "stdout",
     "output_type": "stream",
     "text": [
      "120 120 91\n",
      "725 115 73\n",
      "763 106 9\n",
      "686 289 8\n"
     ]
    }
   ],
   "source": [
    "# img=cv2.imread('00004.BMP',0)\n",
    "def showvalue(event,x,y,flags,param):\n",
    "    if event==cv2.EVENT_LBUTTONDBLCLK:\n",
    "        print(x,y,img[y,x])\n",
    " \n",
    " # 创建图像与窗口并将窗口与回调函数绑定\n",
    "\n",
    "# img=cv2.imread('00003.BMP')\n",
    "\n",
    "cv2.namedWindow('image',0)\n",
    "cv2.setMouseCallback('image',showvalue)\n",
    " \n",
    "while(1):\n",
    "    cv2.imshow('image',img)\n",
    "    if cv2.waitKey(20)&0xFF==27:\n",
    "         break\n",
    "cv2.destroyAllWindows()"
   ]
  },
  {
   "cell_type": "code",
   "execution_count": 56,
   "metadata": {
    "collapsed": true
   },
   "outputs": [],
   "source": [
    "def findCircle(a,b):\n",
    "    xa_c=a[1]-a[0]\n",
    "    ax=(a[1]+a[0])/2\n",
    "    ya_c=b[1]-b[0]\n",
    "    ay=(b[1]+b[0])/2\n",
    "    xb_c=a[2]-a[1]\n",
    "    bx=(a[2]+a[1])/2\n",
    "    yb_c=b[2]-b[1]\n",
    "    by=(b[2]+b[1])/2\n",
    "    ka=ya_c/xa_c\n",
    "    ak=-1/ka #中垂线的斜率\n",
    "    kb=yb_c/xb_c\n",
    "    bk=-1/kb #中垂线的斜率\n",
    "    #b值\n",
    "    ba=ay-ax*ak\n",
    "    bb=by-bx*bk\n",
    "    #求交点的值\n",
    "    x0=(ba-bb)/(bk-ak)\n",
    "    y0=ak*x0+ba\n",
    "   \n",
    "    r1=np.sqrt((x0-a[1])*(x0-a[1])+(y0-b[1])*(y0-b[1]))\n",
    "    r0=np.sqrt((x0-a[0])*(x0-a[0])+(y0-b[0])*(y0-b[0]))\n",
    "    r2=np.sqrt((x0-a[2])*(x0-a[2])+(y0-b[2])*(y0-b[2]))\n",
    "    r=(r0+r1+r2)/3\n",
    "    c=(x0,y0,r)\n",
    "    return c "
   ]
  },
  {
   "cell_type": "code",
   "execution_count": 57,
   "metadata": {
    "collapsed": false
   },
   "outputs": [],
   "source": [
    "def getCenter(x,y):\n",
    "    n=len(x)\n",
    "    c=[]\n",
    "    i=0\n",
    "    while(i<30):\n",
    "        loc=np.random.randint(0,n,3)\n",
    "        a=([x[loc[0]],x[loc[1]],x[loc[2]]])\n",
    "        b=[y[loc[0]],y[loc[1]],y[loc[2]]]\n",
    "        if((b[0]==b[1])|(b[1]==b[2])|(b[0]==[5])):\n",
    "            continue\n",
    "        else:\n",
    "            cp=findCircle(a,b)\n",
    "            c.append(cp)\n",
    "            i=i+1\n",
    "    return(c)\n",
    "        "
   ]
  },
  {
   "cell_type": "code",
   "execution_count": 58,
   "metadata": {
    "collapsed": false
   },
   "outputs": [],
   "source": [
    "c_up=getCenter(x1,y1)\n",
    "c_down=getCenter(x2,y2)"
   ]
  },
  {
   "cell_type": "code",
   "execution_count": 59,
   "metadata": {
    "collapsed": false
   },
   "outputs": [
    {
     "data": {
      "image/png": "[encoded data removed]",
      "text/plain": [
       "<matplotlib.figure.Figure at 0x1ad4ff80ba8>"
      ]
     },
     "metadata": {},
     "output_type": "display_data"
    }
   ],
   "source": [
    "c_up=np.array(c_up)\n",
    "c_down=np.array(c_down)\n",
    "fig=plt.figure()\n",
    "ax = fig.add_subplot(111)\n",
    "# cir1 = Circle(xy = (cent_x, cent_y),radius=radius,alpha=0.5)\n",
    "# ax.add_patch(ell1)\n",
    "# ax.add_patch(cir1)\n",
    "ax.plot(c_up[:,0],c_up[:,1],'o',c='r')\n",
    "ax.plot(c_down[:,0],c_down[:,1],'o',c='b')\n",
    "plt.show()"
   ]
  },
  {
   "cell_type": "code",
   "execution_count": 60,
   "metadata": {
    "collapsed": false
   },
   "outputs": [],
   "source": [
    "d=[]\n",
    "maker=[]\n",
    "dis_r=100.0\n",
    "for i in range(30):\n",
    "    for j in range(30):\n",
    "        dis=(c_down[i][0]-c_up[j][0])*(c_down[i][0]-c_up[j][0])+(c_down[i][1]-c_up[j][1])*(c_down[i][1]-c_up[j][1])\n",
    "        if (dis<dis_r):\n",
    "            dis_r=dis\n",
    "            maker=[c_down[i],c_up[j],dis]\n",
    "            \n",
    "        else:\n",
    "            continue\n",
    "    "
   ]
  },
  {
   "cell_type": "code",
   "execution_count": 61,
   "metadata": {
    "collapsed": false
   },
   "outputs": [
    {
     "data": {
      "image/png": "[encoded data removed]",
      "text/plain": [
       "<matplotlib.figure.Figure at 0x1ad5007b4a8>"
      ]
     },
     "metadata": {},
     "output_type": "display_data"
    }
   ],
   "source": [
    "fig=plt.figure(figsize=(6,6))\n",
    "ax = fig.add_subplot(111)\n",
    "cir11 = Circle(xy = (maker[0][0],maker[0][1]),radius=maker[0][2],alpha=0.5)\n",
    "cir12 = Circle(xy = (maker[1][0],maker[1][1]),radius=maker[1][2],alpha=0.4)\n",
    "# ax.add_patch(ell1)\n",
    "ax.add_patch(cir11)\n",
    "ax.add_patch(cir12)\n",
    "ax.plot(x1,y1,'.',c='r')\n",
    "ax.plot(x2,y2,'.',c='b')\n",
    "ax.plot(maker[0][0],maker[0][1],'.')\n",
    "ax.plot(maker[1][0],maker[1][1],'.')\n",
    "plt.show()"
   ]
  },
  {
   "cell_type": "code",
   "execution_count": 253,
   "metadata": {
    "collapsed": false
   },
   "outputs": [
    {
     "name": "stdout",
     "output_type": "stream",
     "text": [
      "[ 316.   19.] [ 317.   19.] [ 318.   19.] 此三点不可取\n"
     ]
    }
   ],
   "source": [
    "l=[]\n",
    "for i in range(n):\n",
    "    for j in range(i+1,n):\n",
    "        for k in range (j+1,n):\n",
    "            if((a[i][0] in (a[j][0],a[k][0]))|(a[i][1] in (a[j][1],a[k][1]))):\n",
    "                print(a[i],a[j],a[k],'此三点不可取')\n",
    "                \n",
    "            else:\n",
    "                c=findCircle([a[i][0],a[j][0],a[k][0]],[a[i][1],a[j][1],a[k][1]])\n",
    "                l.append(c)\n",
    "\n",
    "df=df.dropna()\n",
    "xc=list(df[0].values)\n",
    "yc=list(df[1].values)\n",
    "plt.figure()\n",
    "plt.plot(xc,yc,'o')\n",
    "plt.show()\n",
    "\n",
    "line_up={}\n",
    "line_down={}\n",
    "k=1\n",
    "for key in dic.keys():\n",
    "    v=sort(dic[key])\n",
    "    n=len(v)\n",
    "    for i in range(n-1):\n",
    "        x=v[i+1]-v[i]\n",
    "        if (x>80):\n",
    "            line_down[key]=v[i+1]\n",
    "            line_up[key]=v[i]\n",
    "            break\n",
    "        else:\n",
    "            continue\n",
    "   \n",
    "            \n",
    "            \n",
    "        \n",
    "    "
   ]
  },
  {
   "cell_type": "code",
   "execution_count": 277,
   "metadata": {
    "collapsed": false
   },
   "outputs": [
    {
     "data": {
      "image/png": "[encoded data removed]",
      "text/plain": [
       "<matplotlib.figure.Figure at 0x1ab22b70160>"
      ]
     },
     "metadata": {},
     "output_type": "display_data"
    }
   ],
   "source": [
    "# import numpy as np\n",
    "from sklearn.cluster import KMeans\n",
    "# data = np.random.rand(100, 3) #生成一个随机数据，样本大小为100, 特征数为3\n",
    "\n",
    "\n",
    "estimator = KMeans(n_clusters=3)#构造聚类器\n",
    "estimator.fit(a)#聚类\n",
    "label_pred = estimator.labels_ #获取聚类标签\n",
    "centroids = estimator.cluster_centers_ #获取聚类中心\n",
    "inertia = estimator.inertia_ # 获取聚类准则的总和\n",
    "    \n",
    "\n",
    "# print(label_pred)\n",
    "color=['r','b','g']\n",
    "plt.figure()\n",
    "for i in range(30):\n",
    "    plt.scatter(all_point[i][0],all_point[i][1],c=color[label_pred[i]])\n",
    "plt.show()"
   ]
  },
  {
   "cell_type": "markdown",
   "metadata": {},
   "source": [
    "x=np.array(x1)\n",
    "y=np.array(y1)\n",
    "x2=x*x\n",
    "y2=y*y\n",
    "sum_x=np.sum(x)\n",
    "sum_y=np.sum(y)\n",
    "sum_x2=np.sum(x2)\n",
    "sum_y2=np.sum(y2)\n",
    "sum_x3=np.sum(x2*x)\n",
    "sum_y3=np.sum(y2*y)\n",
    "sum_xy=np.sum(x*y)  \n",
    "sum_x1y2=np.sum(x*y2) \n",
    "sum_x2y1=np.sum(x2*y) \n",
    "N=size(a)\n",
    "C = N * sum_x2 - sum_x * sum_x  \n",
    "D = N * sum_xy - sum_x * sum_y  \n",
    "E = N * sum_x3 + N * sum_x1y2 - (sum_x2 + sum_y2) * sum_x;  \n",
    "G = N * sum_y2 - sum_y * sum_y  \n",
    "H = N * sum_x2y1 + N * sum_y3 - (sum_x2 + sum_y2) * sum_y;  \n",
    "a = (H * D - E * G) / (C * G - D * D);  \n",
    "b = (H * C - E * D) / (D * D - G * C);  \n",
    "c = -(a * sum_x + b * sum_y + sum_x2 + sum_y2) / N\n",
    "\n",
    "cent_x = a / (-2);  \n",
    "cent_y = b / (-2);   \n",
    "radius = sqrt(a * a + b * b - 4 * c) / 2;\n",
    "\n",
    "print(cent_x,cent_y,radius)"
   ]
  },
  {
   "cell_type": "code",
   "execution_count": 28,
   "metadata": {
    "collapsed": false
   },
   "outputs": [
    {
     "name": "stdout",
     "output_type": "stream",
     "text": [
      "[array([ 427.45259993,  -39.40802971,  294.5023416 ]), array([ 430.36695012,  -42.14896816,  374.42470489]), 16.006180616430797]\n"
     ]
    }
   ],
   "source": [
    "print(maker)"
   ]
  },
  {
   "cell_type": "code",
   "execution_count": 93,
   "metadata": {
    "collapsed": false
   },
   "outputs": [
    {
     "data": {
      "image/png": "[encoded data removed]",
      "text/plain": [
       "<matplotlib.figure.Figure at 0x1ab23eee7b8>"
      ]
     },
     "metadata": {},
     "output_type": "display_data"
    }
   ],
   "source": [
    "from matplotlib.patches import Ellipse, Circle\n",
    "import matplotlib.pyplot as plt\n",
    "\n",
    "fig = plt.figure()\n",
    "ax = fig.add_subplot(111)\n",
    "\n",
    "# ell1 = Ellipse(xy = (0.0, 0.0), width = 4, height = 8, angle = 30.0, facecolor= 'yellow', alpha=0.3)\n",
    "cir1 = Circle(xy = (cent_x, cent_y),radius=radius,alpha=0.5)\n",
    "# ax.add_patch(ell1)\n",
    "ax.add_patch(cir1)\n",
    "\n",
    "x, y = 0, 0\n",
    "ax.plot(x, y, 'ro')\n",
    "\n",
    "plt.axis('scaled')\n",
    "# ax.set_xlim(-4, 4)\n",
    "# ax.set_ylim(-4, 4)\n",
    "plt.axis('equal')   #changes limits of x or y axis so that equal increments of x and y have the same length\n",
    "\n",
    "plt.show()"
   ]
  },
  {
   "cell_type": "code",
   "execution_count": 89,
   "metadata": {
    "collapsed": false
   },
   "outputs": [],
   "source": [
    "img_cir=cv2.circle(img,(int(cent_y),int(cent_x)),int(radius),(0,0,255),-1)\n",
    "cv2.namedWindow('img_c',0)\n",
    "cv2.imshow('img_c',img_cir)\n",
    "cv2.waitKey(0)\n",
    "cv2.destroyAllWindows()"
   ]
  },
  {
   "cell_type": "code",
   "execution_count": null,
   "metadata": {
    "collapsed": true
   },
   "outputs": [],
   "source": []
  }
 ],
 "metadata": {
  "kernelspec": {
   "display_name": "Python 3",
   "language": "python",
   "name": "python3"
  },
  "language_info": {
   "codemirror_mode": {
    "name": "ipython",
    "version": 3
   },
   "file_extension": ".py",
   "mimetype": "text/x-python",
   "name": "python",
   "nbconvert_exporter": "python",
   "pygments_lexer": "ipython3",
   "version": "3.6.0"
  }
 },
 "nbformat": 4,
 "nbformat_minor": 2
}
